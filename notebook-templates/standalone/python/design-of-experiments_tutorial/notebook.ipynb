{
 "cells": [
  {
   "cell_type": "markdown",
   "metadata": {},
   "source": [
    "© Copyright 2013–2014, Abraham Lee\n",
    "\n",
    "© Copyright 2019, Dataiku\n",
    "\n",
    "# Design of Experiments tutorial based on pyDOE\n",
    "\n",
    "Copied from the pyDOE web: site https://pythonhosted.org/pyDOE/index.html"
   ]
  },
  {
   "cell_type": "code",
   "execution_count": 1,
   "metadata": {},
   "outputs": [
    {
     "name": "stdout",
     "output_type": "stream",
     "text": [
      "Populating the interactive namespace from numpy and matplotlib\n"
     ]
    }
   ],
   "source": [
    "%pylab inline"
   ]
  },
  {
   "cell_type": "code",
   "execution_count": 2,
   "metadata": {},
   "outputs": [],
   "source": [
    "import dataiku\n",
    "from pyDOE2 import *"
   ]
  },
  {
   "cell_type": "markdown",
   "metadata": {},
   "source": [
    "## Factorial design\n",
    "\n",
    "### General Full-Factorial (fullfact)\n",
    "\n",
    "This kind of design offers full flexibility as to the number of discrete levels for each factor in the design. Its usage is simple:\n",
    "\n"
   ]
  },
  {
   "cell_type": "code",
   "execution_count": 3,
   "metadata": {},
   "outputs": [
    {
     "data": {
      "text/plain": [
       "array([[0., 0.],\n",
       "       [1., 0.],\n",
       "       [0., 1.],\n",
       "       [1., 1.],\n",
       "       [0., 2.],\n",
       "       [1., 2.]])"
      ]
     },
     "execution_count": 3,
     "metadata": {},
     "output_type": "execute_result"
    }
   ],
   "source": [
    "levels = np.array([2, 3])\n",
    "levels.astype(int)\n",
    "fullfact( levels )"
   ]
  },
  {
   "cell_type": "markdown",
   "metadata": {},
   "source": [
    "where levels is an array of integers.\n",
    "As can be seen in the output, the design matrix has as many columns as items in the input array.\n",
    "\n",
    "### 2-Level Full-Factorial (ff2n)\n",
    "\n",
    "This function is a convenience wrapper to fullfact that forces all the factors to have two levels each, you simply tell it how many factors to create a design for:\n",
    "\n",
    "\n"
   ]
  },
  {
   "cell_type": "code",
   "execution_count": 4,
   "metadata": {},
   "outputs": [
    {
     "data": {
      "text/plain": [
       "array([[-1., -1., -1.],\n",
       "       [ 1., -1., -1.],\n",
       "       [-1.,  1., -1.],\n",
       "       [ 1.,  1., -1.],\n",
       "       [-1., -1.,  1.],\n",
       "       [ 1., -1.,  1.],\n",
       "       [-1.,  1.,  1.],\n",
       "       [ 1.,  1.,  1.]])"
      ]
     },
     "execution_count": 4,
     "metadata": {},
     "output_type": "execute_result"
    }
   ],
   "source": [
    "ff2n(3)"
   ]
  },
  {
   "cell_type": "markdown",
   "metadata": {},
   "source": [
    "### 2-Level Fractional-Factorial (fracfact)\n",
    "\n",
    "This function requires a little more knowledge of how the confounding will be allowed (this means that some factor effects get muddled with other interaction effects, so it’s harder to distinguish between them).\n",
    "\n",
    "Let’s assume that we just can’t afford (for whatever reason) the number of runs in a full-factorial design. We can systematically decide on a fraction of the full-factorial by allowing some of the factor main effects to be confounded with other factor interaction effects. This is done by defining an alias structure that defines, symbolically, these interactions. These alias structures are written like “C = AB” or “I = ABC”, or “AB = CD”, etc. These define how one column is related to the others.\n",
    "\n",
    "For example, the alias “C = AB” or “I = ABC” indicate that there are three factors (A, B, and C) and that the main effect of factor C is confounded with the interaction effect of the product AB, and by extension, A is confounded with BC and B is confounded with AC. A full- factorial design with these three factors results in a design matrix with 8 runs, but we will assume that we can only afford 4 of those runs. To create this fractional design, we need a matrix with three columns, one for A, B, and C, only now where the levels in the C column is created by the product of the A and B columns.\n",
    "\n",
    "The input to fracfact is a generator string of symbolic characters (lowercase or uppercase, but not both) separated by spaces, like:"
   ]
  },
  {
   "cell_type": "code",
   "execution_count": 5,
   "metadata": {},
   "outputs": [],
   "source": [
    "gen = 'a b ab'"
   ]
  },
  {
   "cell_type": "markdown",
   "metadata": {},
   "source": [
    "This design would result in a 3-column matrix, where the third column is implicitly defined as \"c = ab\". This means that the factor in the third column is confounded with the interaction of the factors in the first two columns. The design ends up looking like this:"
   ]
  },
  {
   "cell_type": "code",
   "execution_count": 6,
   "metadata": {},
   "outputs": [
    {
     "data": {
      "text/plain": [
       "array([[-1., -1.,  1.],\n",
       "       [ 1., -1., -1.],\n",
       "       [-1.,  1., -1.],\n",
       "       [ 1.,  1.,  1.]])"
      ]
     },
     "execution_count": 6,
     "metadata": {},
     "output_type": "execute_result"
    }
   ],
   "source": [
    "fracfact(gen)"
   ]
  },
  {
   "cell_type": "markdown",
   "metadata": {},
   "source": [
    "Fractional factorial designs are usually specified using the notation $2^{k-p}$, where $k$ is the number of columns and $p$ is the number of effects that are confounded. In terms of resolution level, higher is “better”. The above design would be considered a $2^{3-1}$ fractional factorial design, a 1/2-fraction design, or a Resolution III design (since the smallest alias “I=ABC” has three terms on the right-hand side). Another common design is a Resolution III, $2^{7-4}$ fractional factorial and would be created using the following string generator:"
   ]
  },
  {
   "cell_type": "code",
   "execution_count": 7,
   "metadata": {},
   "outputs": [
    {
     "data": {
      "text/plain": [
       "array([[-1., -1.,  1., -1.,  1.,  1., -1.],\n",
       "       [ 1., -1., -1., -1., -1.,  1.,  1.],\n",
       "       [-1.,  1., -1., -1.,  1., -1.,  1.],\n",
       "       [ 1.,  1.,  1., -1., -1., -1., -1.],\n",
       "       [-1., -1.,  1.,  1., -1., -1.,  1.],\n",
       "       [ 1., -1., -1.,  1.,  1., -1., -1.],\n",
       "       [-1.,  1., -1.,  1., -1.,  1., -1.],\n",
       "       [ 1.,  1.,  1.,  1.,  1.,  1.,  1.]])"
      ]
     },
     "execution_count": 7,
     "metadata": {},
     "output_type": "execute_result"
    }
   ],
   "source": [
    "fracfact('a b ab c ac bc abc')"
   ]
  },
  {
   "cell_type": "markdown",
   "metadata": {},
   "source": [
    "More sophisticated generator strings can be created using the “+” and “-” operators. The “-” operator swaps the levels of that column like this:"
   ]
  },
  {
   "cell_type": "code",
   "execution_count": 8,
   "metadata": {},
   "outputs": [
    {
     "data": {
      "text/plain": [
       "array([[-1., -1., -1.],\n",
       "       [ 1., -1.,  1.],\n",
       "       [-1.,  1.,  1.],\n",
       "       [ 1.,  1., -1.]])"
      ]
     },
     "execution_count": 8,
     "metadata": {},
     "output_type": "execute_result"
    }
   ],
   "source": [
    "fracfact('a b -ab')"
   ]
  },
  {
   "cell_type": "markdown",
   "metadata": {},
   "source": [
    "In order to reduce confounding, we can utilize the fold function:"
   ]
  },
  {
   "cell_type": "code",
   "execution_count": 9,
   "metadata": {},
   "outputs": [
    {
     "data": {
      "text/plain": [
       "array([[-1., -1.,  1.],\n",
       "       [ 1., -1., -1.],\n",
       "       [-1.,  1., -1.],\n",
       "       [ 1.,  1.,  1.],\n",
       "       [ 1.,  1., -1.],\n",
       "       [-1.,  1.,  1.],\n",
       "       [ 1., -1.,  1.],\n",
       "       [-1., -1., -1.]])"
      ]
     },
     "execution_count": 9,
     "metadata": {},
     "output_type": "execute_result"
    }
   ],
   "source": [
    "m = fracfact('a b ab')\n",
    "fold(m)"
   ]
  },
  {
   "cell_type": "markdown",
   "metadata": {},
   "source": [
    "Applying the fold to all columns in the design breaks the alias chains between every main factor and two-factor interactions. This means that we can then estimate all the main effects clear of any two-factor interactions. Typically, when all columns are folded, this “upgrades” the resolution of the design.\n",
    "\n",
    "By default, fold applies the level swapping to all columns, but we can fold specific columns (first column = 0), if desired, by supplying an array to the keyword columns:"
   ]
  },
  {
   "cell_type": "code",
   "execution_count": 10,
   "metadata": {},
   "outputs": [
    {
     "data": {
      "text/plain": [
       "array([[-1., -1.,  1.],\n",
       "       [ 1., -1., -1.],\n",
       "       [-1.,  1., -1.],\n",
       "       [ 1.,  1.,  1.],\n",
       "       [-1., -1., -1.],\n",
       "       [ 1., -1.,  1.],\n",
       "       [-1.,  1.,  1.],\n",
       "       [ 1.,  1., -1.]])"
      ]
     },
     "execution_count": 10,
     "metadata": {},
     "output_type": "execute_result"
    }
   ],
   "source": [
    "fold(m, columns=[2])"
   ]
  },
  {
   "cell_type": "markdown",
   "metadata": {},
   "source": [
    "#### Note\n",
    "\n",
    "Care should be taken to decide the appropriate alias structure for your design and the effects that folding has on it.\n",
    "\n",
    "### Plackett-Burman (pbdesign)\n",
    "\n",
    "Another way to generate fractional-factorial designs is through the use of Plackett-Burman designs. These designs are unique in that the number of trial conditions (rows) expands by multiples of four (e.g. 4, 8, 12, etc.). The max number of columns allowed before a design increases the number of rows is always one less than the next higher multiple of four.\n",
    "\n",
    "For example, I can use up to 3 factors in a design with 4 rows:"
   ]
  },
  {
   "cell_type": "code",
   "execution_count": 11,
   "metadata": {},
   "outputs": [
    {
     "data": {
      "text/plain": [
       "array([[-1., -1.,  1.],\n",
       "       [ 1., -1., -1.],\n",
       "       [-1.,  1., -1.],\n",
       "       [ 1.,  1.,  1.]])"
      ]
     },
     "execution_count": 11,
     "metadata": {},
     "output_type": "execute_result"
    }
   ],
   "source": [
    "pbdesign(3)"
   ]
  },
  {
   "cell_type": "markdown",
   "metadata": {},
   "source": [
    "But if I want to do 4 factors, the design needs to increase the number of rows up to the next multiple of four (8 in this case):"
   ]
  },
  {
   "cell_type": "code",
   "execution_count": 12,
   "metadata": {},
   "outputs": [
    {
     "data": {
      "text/plain": [
       "array([[-1., -1.,  1., -1.],\n",
       "       [ 1., -1., -1., -1.],\n",
       "       [-1.,  1., -1., -1.],\n",
       "       [ 1.,  1.,  1., -1.],\n",
       "       [-1., -1.,  1.,  1.],\n",
       "       [ 1., -1., -1.,  1.],\n",
       "       [-1.,  1., -1.,  1.],\n",
       "       [ 1.,  1.,  1.,  1.]])"
      ]
     },
     "execution_count": 12,
     "metadata": {},
     "output_type": "execute_result"
    }
   ],
   "source": [
    " pbdesign(4)"
   ]
  },
  {
   "cell_type": "markdown",
   "metadata": {},
   "source": [
    "Thus, an 8-run Plackett-Burman design can handle up to (8 - 1) = 7 factors.\n",
    "\n",
    "As a side note, It just so happens that the Plackett-Burman and 2^(7-4) fractional factorial design are identical:\n"
   ]
  },
  {
   "cell_type": "code",
   "execution_count": 13,
   "metadata": {},
   "outputs": [
    {
     "data": {
      "text/plain": [
       "True"
      ]
     },
     "execution_count": 13,
     "metadata": {},
     "output_type": "execute_result"
    }
   ],
   "source": [
    "np.all(pbdesign(7)==fracfact('a b ab c ac bc abc'))"
   ]
  },
  {
   "cell_type": "markdown",
   "metadata": {},
   "source": [
    "### More Information\n",
    "\n",
    "If the user needs more information about appropriate designs, please consult the following articles on Wikipedia:\n",
    "\n",
    "- [Factorial designs](http://en.wikipedia.org/wiki/Factorial_experiment)\n",
    "- [Plackett-Burman designs](http://en.wikipedia.org/wiki/Plackett-Burman_design)\n",
    "\n",
    "There is also a wealth of information on the [NIST](http://www.itl.nist.gov/div898/handbook/pri/pri.htm) website about the various design matrices that can be created as well as detailed information about designing/setting-up/running experiments in general.\n",
    "\n",
    "Any questions, comments, bug-fixes, etc. can be forwarded to the author or the pyDOE package."
   ]
  },
  {
   "cell_type": "markdown",
   "metadata": {},
   "source": [
    "## Response Surface Designs\n",
    "\n",
    "### Box-Behnken (bbdesign)\n",
    "\n",
    "![Box-Behnken image](http://www.itl.nist.gov/div898/handbook/pri/section3/gifs/bb.gif)\n",
    "\n",
    "Box-Behnken designs can be created using the following simple syntax:"
   ]
  },
  {
   "cell_type": "code",
   "execution_count": 14,
   "metadata": {},
   "outputs": [
    {
     "data": {
      "text/plain": [
       "array([[-1., -1.,  0.],\n",
       "       [ 1., -1.,  0.],\n",
       "       [-1.,  1.,  0.],\n",
       "       [ 1.,  1.,  0.],\n",
       "       [-1.,  0., -1.],\n",
       "       [ 1.,  0., -1.],\n",
       "       [-1.,  0.,  1.],\n",
       "       [ 1.,  0.,  1.],\n",
       "       [ 0., -1., -1.],\n",
       "       [ 0.,  1., -1.],\n",
       "       [ 0., -1.,  1.],\n",
       "       [ 0.,  1.,  1.],\n",
       "       [ 0.,  0.,  0.]])"
      ]
     },
     "execution_count": 14,
     "metadata": {},
     "output_type": "execute_result"
    }
   ],
   "source": [
    "n=3\n",
    "bbdesign(n, center=1)"
   ]
  },
  {
   "cell_type": "markdown",
   "metadata": {},
   "source": [
    "where n is the number of factors (at least 3 required) and center is the number of center points to include. If no inputs given to center, then a pre-determined number of points are automatically included.\n",
    "\n",
    "## Central Composite (ccdesign)\n",
    "![Central Composite image](http://www.itl.nist.gov/div898/handbook/pri/section3/gifs/fig5.gif)\n",
    "Central composite designs can be created and customized using the syntax:\n"
   ]
  },
  {
   "cell_type": "code",
   "execution_count": 15,
   "metadata": {},
   "outputs": [
    {
     "data": {
      "text/plain": [
       "array([[-0.59460356, -0.59460356, -0.59460356],\n",
       "       [ 0.59460356, -0.59460356, -0.59460356],\n",
       "       [-0.59460356,  0.59460356, -0.59460356],\n",
       "       [ 0.59460356,  0.59460356, -0.59460356],\n",
       "       [-0.59460356, -0.59460356,  0.59460356],\n",
       "       [ 0.59460356, -0.59460356,  0.59460356],\n",
       "       [-0.59460356,  0.59460356,  0.59460356],\n",
       "       [ 0.59460356,  0.59460356,  0.59460356],\n",
       "       [-1.        ,  0.        ,  0.        ],\n",
       "       [ 1.        ,  0.        ,  0.        ],\n",
       "       [ 0.        , -1.        ,  0.        ],\n",
       "       [ 0.        ,  1.        ,  0.        ],\n",
       "       [ 0.        ,  0.        , -1.        ],\n",
       "       [ 0.        ,  0.        ,  1.        ],\n",
       "       [ 0.        ,  0.        ,  0.        ]])"
      ]
     },
     "execution_count": 15,
     "metadata": {},
     "output_type": "execute_result"
    }
   ],
   "source": [
    "n=3\n",
    "ccdesign(3, center=(0, 1), alpha='r', face='cci')"
   ]
  },
  {
   "cell_type": "markdown",
   "metadata": {},
   "source": [
    "\n",
    "\n",
    "where\n",
    "- n is the number of factors,\n",
    "- center is a 2-tuple of center points (one for the factorial block, one for the star block, default (4, 4)),\n",
    "- alpha is either “orthogonal” (or “o”, default) or “rotatable” (or “r”)\n",
    "- face is either “circumscribed” (or “ccc”, default), “inscribed” (or “cci”), or “faced” (or “ccf”).\n",
    "\n",
    "![cc2 image](http://www.itl.nist.gov/div898/handbook/pri/section3/gifs/ccd2.gif)\n",
    "\n",
    "The two optional keyword arguments alpha and face help describe how the variance in the quadratic approximation is distributed. Please see the NIST web pages if you are uncertain which options are suitable for your situation.\n",
    "\n",
    "#### Note\n",
    "\n",
    "‘ccc’ and ‘cci’ can be rotatable designs, but ‘ccf’ cannot.\n",
    "If face is specified, while alpha is not, then the default value of alpha is ‘orthogonal’.\n",
    "\n",
    "### More Information\n",
    "If the user needs more information about appropriate designs, please consult the following articles on Wikipedia:\n",
    "\n",
    "- [Box-Behnken designs](http://en.wikipedia.org/wiki/Box-Behnken_design)\n",
    "- [Central composite designs](http://en.wikipedia.org/wiki/Central_composite_design)\n",
    "\n",
    "There is also a wealth of information on the [NIST](http://www.itl.nist.gov/div898/handbook/pri/pri.htm) website about the various design matrices that can be created as well as detailed information about designing/setting-up/running experiments in general.\n",
    "\n",
    "Any questions, comments, bug-fixes, etc. can be forwarded to the author of the package."
   ]
  },
  {
   "cell_type": "markdown",
   "metadata": {},
   "source": [
    "## Randomized Designs\n",
    "\n",
    "### Latin-Hypercube (lhs)\n",
    "\n",
    "![Latin-Hypercube image](https://pythonhosted.org/pyDOE/_images/lhs.png)\n",
    "\n",
    "Latin-hypercube designs can be created using the following simple syntax:\n"
   ]
  },
  {
   "cell_type": "code",
   "execution_count": 16,
   "metadata": {},
   "outputs": [
    {
     "data": {
      "text/plain": [
       "array([[0.25, 0.75, 0.65, 0.45],\n",
       "       [0.05, 0.25, 0.35, 0.95],\n",
       "       [0.15, 0.45, 0.05, 0.05],\n",
       "       [0.85, 0.65, 0.75, 0.65],\n",
       "       [0.75, 0.95, 0.95, 0.25],\n",
       "       [0.55, 0.35, 0.45, 0.85],\n",
       "       [0.95, 0.05, 0.85, 0.75],\n",
       "       [0.65, 0.15, 0.15, 0.15],\n",
       "       [0.35, 0.55, 0.25, 0.55],\n",
       "       [0.45, 0.85, 0.55, 0.35]])"
      ]
     },
     "execution_count": 16,
     "metadata": {},
     "output_type": "execute_result"
    }
   ],
   "source": [
    "n = 4\n",
    "lhs(n, samples=10, criterion='center')"
   ]
  },
  {
   "cell_type": "markdown",
   "metadata": {},
   "source": [
    "where\n",
    "\n",
    "- `n`: an integer that designates the number of factors (required)\n",
    "- `samples`: an integer that designates the number of sample points to generate for each factor (default: n)\n",
    "criterion: a string that tells lhs how to sample the points (default: None, which simply randomizes the points within the intervals):\n",
    "- `\"center\"` or `\"c\"`: center the points within the sampling intervals\n",
    "- `“maximin”` or `“m”`: maximize the minimum distance between points, but place the point in a randomized location within its interval\n",
    "- `“centermaximin”` or `“cm”`: same as `“maximin”`, but centered within the intervals\n",
    "- `“correlation”` or `“corr”`: minimize the maximum correlation coefficient\n",
    "The output design scales all the variable ranges from zero to one which can then be transformed as the user wishes (like to a specific statistical distribution using the `scipy.stats.distributions` `ppf` (inverse cumulative distribution) function. An example of this is shown below.\n",
    "\n",
    "For example, if I wanted to transform the uniform distribution of 8 samples to a normal distribution (mean=0, standard deviation=1), I would do something like:"
   ]
  },
  {
   "cell_type": "code",
   "execution_count": 17,
   "metadata": {},
   "outputs": [],
   "source": [
    "from scipy.stats.distributions import norm\n",
    "lhd = lhs(2, samples=5)\n",
    "lhd = norm(loc=0, scale=1).ppf(lhd)  # this applies to both factors here"
   ]
  },
  {
   "cell_type": "markdown",
   "metadata": {},
   "source": [
    "Graphically, each transformation would look like the following, going from the blue sampled points (from using lhs) to the green sampled points that are normally distributed:\n",
    "\n",
    "![LHS custom distribution](https://pythonhosted.org/pyDOE/_images/lhs_custom_distribution.png)\n",
    "\n",
    "#### Customizing with Statistical Distributions\n",
    "\n",
    "Now, let’s say we want to transform these designs to be normally distributed with means = [1, 2, 3, 4] and standard deviations = [0.1, 0.5, 1, 0.25]:"
   ]
  },
  {
   "cell_type": "code",
   "execution_count": 18,
   "metadata": {},
   "outputs": [
    {
     "data": {
      "text/plain": [
       "array([[0.9344455 , 1.71150008, 2.63947157, 4.01253087],\n",
       "       [0.95689517, 1.95756214, 4.08693223, 3.46280742],\n",
       "       [0.90589406, 1.32548035, 0.69810848, 3.68744378],\n",
       "       [1.02888701, 1.55931855, 3.52395375, 4.14825359],\n",
       "       [1.00969689, 2.9871124 , 1.87219992, 3.84125315],\n",
       "       [1.20057404, 2.00031489, 2.99116498, 3.92192039],\n",
       "       [1.05781123, 2.57684236, 4.76172202, 4.32737695],\n",
       "       [0.98936778, 2.31990058, 3.69554855, 4.07213995],\n",
       "       [1.09154272, 2.25534676, 3.05944951, 3.96697131],\n",
       "       [0.77283359, 1.74279091, 2.31553605, 4.31923263]])"
      ]
     },
     "execution_count": 18,
     "metadata": {},
     "output_type": "execute_result"
    }
   ],
   "source": [
    "design = lhs(4, samples=10)\n",
    "from scipy.stats.distributions import norm\n",
    "means = [1, 2, 3, 4]\n",
    "stdvs = [0.1, 0.5, 1, 0.25]\n",
    "for i in range(4):\n",
    "     design[:, i] = norm(loc=means[i], scale=stdvs[i]).ppf(design[:, i])\n",
    "\n",
    "design"
   ]
  },
  {
   "cell_type": "markdown",
   "metadata": {},
   "source": [
    "#### Note\n",
    "\n",
    "Methods for “space-filling” designs and “orthogonal” designs are in the works, so stay tuned! However, simply increasing the samples reduces the need for these anyway.\n",
    "\n",
    "### More Information\n",
    "\n",
    "If the user needs more information about appropriate designs, please consult the following articles on Wikipedia:\n",
    "\n",
    "- [Latin-Hypercube designs](http://en.wikipedia.org/wiki/Latin_hypercube_sampling)\n",
    "\n",
    "There is also a wealth of information on the [NIST](http://www.itl.nist.gov/div898/handbook/pri/pri.htm) website about the various design matrices that can be created as well as detailed information about designing/setting-up/running experiments in general.\n",
    "\n",
    "Any questions, comments, bug-fixes, etc. can be forwarded to the author of the pyDOE package."
   ]
  }
 ],
 "metadata": {
  "analyzedDataset": "",
  "creator": "",
  "customFields": {},
  "kernelspec": {
   "display_name": "Python (env plugin_design-of-experiments_managed)",
   "language": "python",
   "name": "py-dku-venv-plugin_design-of-experiments_managed"
  },
  "language_info": {
   "codemirror_mode": {
    "name": "ipython",
    "version": 3
   },
   "file_extension": ".py",
   "mimetype": "text/x-python",
   "name": "python",
   "nbconvert_exporter": "python",
   "pygments_lexer": "ipython3",
   "version": "3.7.5"
  },
  "tags": []
 },
 "nbformat": 4,
 "nbformat_minor": 1
}
